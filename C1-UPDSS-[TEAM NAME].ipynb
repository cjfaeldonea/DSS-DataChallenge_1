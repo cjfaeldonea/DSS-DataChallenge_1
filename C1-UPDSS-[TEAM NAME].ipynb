{
 "cells": [
  {
   "cell_type": "code",
   "execution_count": null,
   "metadata": {},
   "outputs": [],
   "source": [
    "import pandas as pd\n",
    "table = {\n",
    "        'Grocery List': ['Tuna','Salmon','Luncheon meat','Rice','Bread','Butter','Milk','Eggs','Mixed vegetables'], \n",
    "        'Quantity': ['2 kilograms','3 kilograms','10 cans','50 kilograms','5 loaves','3 200-grams','5 liters','10 trays','2 300-grams'],\n",
    "        'Price':['150.00 per kilo','180.00 per kilo','30.00 per can','26.00 per kilo','65.00 per load','60.00 per 200 grams','92.00 per liter','270.00 per tray','150.00 per 300 grams']\n",
    "        }\n",
    "dataFrame = pd.DataFrame(data=table)\n",
    "dataFrame\n"
   ]
  },
  {
   "cell_type": "code",
   "execution_count": null,
   "metadata": {},
   "outputs": [],
   "source": [
    "dataFrame['Total']=(dataFrame[\"Quantity\"].str.extract(r'(^\\d+)').astype(int))*(dataFrame[\"Price\"].str.extract(r'(^\\d+)').astype(int))\n",
    "dataFrame"
   ]
  }
 ],
 "metadata": {
  "interpreter": {
   "hash": "41fb6f42c941f3fcf46e6a69fd3fab65529caaaede1028070cf8b768ae23d3b9"
  },
  "kernelspec": {
   "display_name": "Python 3.10.0 64-bit",
   "language": "python",
   "name": "python3"
  },
  "language_info": {
   "codemirror_mode": {
    "name": "ipython",
    "version": 3
   },
   "file_extension": ".py",
   "mimetype": "text/x-python",
   "name": "python",
   "nbconvert_exporter": "python",
   "pygments_lexer": "ipython3",
   "version": "3.10.0"
  },
  "orig_nbformat": 4
 },
 "nbformat": 4,
 "nbformat_minor": 2
}
