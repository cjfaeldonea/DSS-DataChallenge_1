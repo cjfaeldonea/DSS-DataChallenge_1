{
 "cells": [
  {
   "cell_type": "markdown",
   "metadata": {},
   "source": [
    "Be sure to install the following packages:\n",
    "*pip install pandas\n",
    "*pip install matplotlib"
   ]
  },
  {
   "cell_type": "markdown",
   "metadata": {},
   "source": [
    "Number 01: Recreate the table below using numpy and pandas libraries [150 pts]"
   ]
  },
  {
   "cell_type": "code",
   "execution_count": 39,
   "metadata": {},
   "outputs": [
    {
     "data": {
      "text/html": [
       "<div>\n",
       "<style scoped>\n",
       "    .dataframe tbody tr th:only-of-type {\n",
       "        vertical-align: middle;\n",
       "    }\n",
       "\n",
       "    .dataframe tbody tr th {\n",
       "        vertical-align: top;\n",
       "    }\n",
       "\n",
       "    .dataframe thead th {\n",
       "        text-align: right;\n",
       "    }\n",
       "</style>\n",
       "<table border=\"1\" class=\"dataframe\">\n",
       "  <thead>\n",
       "    <tr style=\"text-align: right;\">\n",
       "      <th></th>\n",
       "      <th>Quantity</th>\n",
       "      <th>Price</th>\n",
       "    </tr>\n",
       "    <tr>\n",
       "      <th>Grocery List</th>\n",
       "      <th></th>\n",
       "      <th></th>\n",
       "    </tr>\n",
       "  </thead>\n",
       "  <tbody>\n",
       "    <tr>\n",
       "      <th>Tuna</th>\n",
       "      <td>2 kilograms</td>\n",
       "      <td>150.00 per kilo</td>\n",
       "    </tr>\n",
       "    <tr>\n",
       "      <th>Salmon</th>\n",
       "      <td>3 kilograms</td>\n",
       "      <td>180.00 per kilo</td>\n",
       "    </tr>\n",
       "    <tr>\n",
       "      <th>Luncheon meat</th>\n",
       "      <td>10 cans</td>\n",
       "      <td>30.00 per can</td>\n",
       "    </tr>\n",
       "    <tr>\n",
       "      <th>Rice</th>\n",
       "      <td>50 kilograms</td>\n",
       "      <td>26.00 per kilo</td>\n",
       "    </tr>\n",
       "    <tr>\n",
       "      <th>Bread</th>\n",
       "      <td>5 loaves</td>\n",
       "      <td>65.00 per load</td>\n",
       "    </tr>\n",
       "    <tr>\n",
       "      <th>Butter</th>\n",
       "      <td>3 200-grams</td>\n",
       "      <td>60.00 per 200 grams</td>\n",
       "    </tr>\n",
       "    <tr>\n",
       "      <th>Milk</th>\n",
       "      <td>5 liters</td>\n",
       "      <td>92.00 per liter</td>\n",
       "    </tr>\n",
       "    <tr>\n",
       "      <th>Eggs</th>\n",
       "      <td>10 trays</td>\n",
       "      <td>270.00 per tray</td>\n",
       "    </tr>\n",
       "    <tr>\n",
       "      <th>Mixed vegetables</th>\n",
       "      <td>2 300-grams</td>\n",
       "      <td>150.00 per 300 grams</td>\n",
       "    </tr>\n",
       "  </tbody>\n",
       "</table>\n",
       "</div>"
      ],
      "text/plain": [
       "                      Quantity                 Price\n",
       "Grocery List                                        \n",
       "Tuna               2 kilograms       150.00 per kilo\n",
       "Salmon             3 kilograms       180.00 per kilo\n",
       "Luncheon meat          10 cans         30.00 per can\n",
       "Rice              50 kilograms        26.00 per kilo\n",
       "Bread                 5 loaves        65.00 per load\n",
       "Butter             3 200-grams   60.00 per 200 grams\n",
       "Milk                  5 liters       92.00 per liter\n",
       "Eggs                  10 trays       270.00 per tray\n",
       "Mixed vegetables   2 300-grams  150.00 per 300 grams"
      ]
     },
     "execution_count": 39,
     "metadata": {},
     "output_type": "execute_result"
    }
   ],
   "source": [
    "import pandas as pd\n",
    "table = {\n",
    "        'Grocery List': ['Tuna','Salmon','Luncheon meat','Rice','Bread','Butter','Milk','Eggs','Mixed vegetables'], \n",
    "        'Quantity': ['2 kilograms','3 kilograms','10 cans','50 kilograms','5 loaves','3 200-grams','5 liters','10 trays','2 300-grams'],\n",
    "        'Price':['150.00 per kilo','180.00 per kilo','30.00 per can','26.00 per kilo','65.00 per load','60.00 per 200 grams','92.00 per liter','270.00 per tray','150.00 per 300 grams']\n",
    "        }\n",
    "dataFrame = pd.DataFrame(data=table)\n",
    "dataFrame.set_index('Grocery List')\n"
   ]
  },
  {
   "cell_type": "markdown",
   "metadata": {},
   "source": [
    "Number 02: Create a third column with column name “Total” indicating the total price\n",
    "per item in the grocery list. [150 pts]\n"
   ]
  },
  {
   "cell_type": "code",
   "execution_count": 40,
   "metadata": {},
   "outputs": [
    {
     "data": {
      "text/html": [
       "<div>\n",
       "<style scoped>\n",
       "    .dataframe tbody tr th:only-of-type {\n",
       "        vertical-align: middle;\n",
       "    }\n",
       "\n",
       "    .dataframe tbody tr th {\n",
       "        vertical-align: top;\n",
       "    }\n",
       "\n",
       "    .dataframe thead th {\n",
       "        text-align: right;\n",
       "    }\n",
       "</style>\n",
       "<table border=\"1\" class=\"dataframe\">\n",
       "  <thead>\n",
       "    <tr style=\"text-align: right;\">\n",
       "      <th></th>\n",
       "      <th>Quantity</th>\n",
       "      <th>Price</th>\n",
       "      <th>Total</th>\n",
       "    </tr>\n",
       "    <tr>\n",
       "      <th>Grocery List</th>\n",
       "      <th></th>\n",
       "      <th></th>\n",
       "      <th></th>\n",
       "    </tr>\n",
       "  </thead>\n",
       "  <tbody>\n",
       "    <tr>\n",
       "      <th>Tuna</th>\n",
       "      <td>2 kilograms</td>\n",
       "      <td>150.00 per kilo</td>\n",
       "      <td>300.0</td>\n",
       "    </tr>\n",
       "    <tr>\n",
       "      <th>Salmon</th>\n",
       "      <td>3 kilograms</td>\n",
       "      <td>180.00 per kilo</td>\n",
       "      <td>540.0</td>\n",
       "    </tr>\n",
       "    <tr>\n",
       "      <th>Luncheon meat</th>\n",
       "      <td>10 cans</td>\n",
       "      <td>30.00 per can</td>\n",
       "      <td>300.0</td>\n",
       "    </tr>\n",
       "    <tr>\n",
       "      <th>Rice</th>\n",
       "      <td>50 kilograms</td>\n",
       "      <td>26.00 per kilo</td>\n",
       "      <td>1300.0</td>\n",
       "    </tr>\n",
       "    <tr>\n",
       "      <th>Bread</th>\n",
       "      <td>5 loaves</td>\n",
       "      <td>65.00 per load</td>\n",
       "      <td>325.0</td>\n",
       "    </tr>\n",
       "    <tr>\n",
       "      <th>Butter</th>\n",
       "      <td>3 200-grams</td>\n",
       "      <td>60.00 per 200 grams</td>\n",
       "      <td>180.0</td>\n",
       "    </tr>\n",
       "    <tr>\n",
       "      <th>Milk</th>\n",
       "      <td>5 liters</td>\n",
       "      <td>92.00 per liter</td>\n",
       "      <td>460.0</td>\n",
       "    </tr>\n",
       "    <tr>\n",
       "      <th>Eggs</th>\n",
       "      <td>10 trays</td>\n",
       "      <td>270.00 per tray</td>\n",
       "      <td>2700.0</td>\n",
       "    </tr>\n",
       "    <tr>\n",
       "      <th>Mixed vegetables</th>\n",
       "      <td>2 300-grams</td>\n",
       "      <td>150.00 per 300 grams</td>\n",
       "      <td>300.0</td>\n",
       "    </tr>\n",
       "  </tbody>\n",
       "</table>\n",
       "</div>"
      ],
      "text/plain": [
       "                      Quantity                 Price   Total\n",
       "Grocery List                                                \n",
       "Tuna               2 kilograms       150.00 per kilo   300.0\n",
       "Salmon             3 kilograms       180.00 per kilo   540.0\n",
       "Luncheon meat          10 cans         30.00 per can   300.0\n",
       "Rice              50 kilograms        26.00 per kilo  1300.0\n",
       "Bread                 5 loaves        65.00 per load   325.0\n",
       "Butter             3 200-grams   60.00 per 200 grams   180.0\n",
       "Milk                  5 liters       92.00 per liter   460.0\n",
       "Eggs                  10 trays       270.00 per tray  2700.0\n",
       "Mixed vegetables   2 300-grams  150.00 per 300 grams   300.0"
      ]
     },
     "execution_count": 40,
     "metadata": {},
     "output_type": "execute_result"
    }
   ],
   "source": [
    "dataFrame['Total']=(dataFrame[\"Quantity\"].str.extract(r'(^\\d+)').astype(float))*(dataFrame[\"Price\"].str.extract(r'(^\\d+.\\d{2})').astype(float))\n",
    "dataFrame.set_index('Grocery List')"
   ]
  },
  {
   "cell_type": "markdown",
   "metadata": {},
   "source": [
    "Number 03: Exploratory Data Analysis [400 pts"
   ]
  },
  {
   "cell_type": "markdown",
   "metadata": {},
   "source": [
    "3.1 Find the cumulative sum of the total price of each item and display it as a bar graph.\n",
    "Print the total price of the entire grocery list. [80 pts]"
   ]
  },
  {
   "cell_type": "code",
   "execution_count": 41,
   "metadata": {},
   "outputs": [
    {
     "name": "stdout",
     "output_type": "stream",
     "text": [
      "Total Price: 6405.00\n"
     ]
    },
    {
     "data": {
      "image/png": "[encoded data removed]",
      "text/plain": [
       "<Figure size 432x288 with 1 Axes>"
      ]
     },
     "metadata": {
      "needs_background": "light"
     },
     "output_type": "display_data"
    }
   ],
   "source": [
    "import matplotlib\n",
    "cum_sum = dataFrame.plot.bar(x='Grocery List', y='Total', rot=0)\n",
    "grocery_sum = dataFrame.Total.sum()\n",
    "\n",
    "print(\"Total Price: %5.2f\" % grocery_sum)\n"
   ]
  },
  {
   "cell_type": "markdown",
   "metadata": {},
   "source": [
    "3.2 Sort and determine the top three most expensive items on the list. Display it as a table.\n",
    "[80 pts]"
   ]
  },
  {
   "cell_type": "code",
   "execution_count": 42,
   "metadata": {},
   "outputs": [
    {
     "data": {
      "text/html": [
       "<div>\n",
       "<style scoped>\n",
       "    .dataframe tbody tr th:only-of-type {\n",
       "        vertical-align: middle;\n",
       "    }\n",
       "\n",
       "    .dataframe tbody tr th {\n",
       "        vertical-align: top;\n",
       "    }\n",
       "\n",
       "    .dataframe thead th {\n",
       "        text-align: right;\n",
       "    }\n",
       "</style>\n",
       "<table border=\"1\" class=\"dataframe\">\n",
       "  <thead>\n",
       "    <tr style=\"text-align: right;\">\n",
       "      <th></th>\n",
       "      <th>Grocery List</th>\n",
       "      <th>Quantity</th>\n",
       "      <th>Price</th>\n",
       "      <th>Total</th>\n",
       "    </tr>\n",
       "  </thead>\n",
       "  <tbody>\n",
       "    <tr>\n",
       "      <th>7</th>\n",
       "      <td>Eggs</td>\n",
       "      <td>10 trays</td>\n",
       "      <td>270.00 per tray</td>\n",
       "      <td>2700.0</td>\n",
       "    </tr>\n",
       "    <tr>\n",
       "      <th>3</th>\n",
       "      <td>Rice</td>\n",
       "      <td>50 kilograms</td>\n",
       "      <td>26.00 per kilo</td>\n",
       "      <td>1300.0</td>\n",
       "    </tr>\n",
       "    <tr>\n",
       "      <th>1</th>\n",
       "      <td>Salmon</td>\n",
       "      <td>3 kilograms</td>\n",
       "      <td>180.00 per kilo</td>\n",
       "      <td>540.0</td>\n",
       "    </tr>\n",
       "    <tr>\n",
       "      <th>6</th>\n",
       "      <td>Milk</td>\n",
       "      <td>5 liters</td>\n",
       "      <td>92.00 per liter</td>\n",
       "      <td>460.0</td>\n",
       "    </tr>\n",
       "    <tr>\n",
       "      <th>4</th>\n",
       "      <td>Bread</td>\n",
       "      <td>5 loaves</td>\n",
       "      <td>65.00 per load</td>\n",
       "      <td>325.0</td>\n",
       "    </tr>\n",
       "    <tr>\n",
       "      <th>0</th>\n",
       "      <td>Tuna</td>\n",
       "      <td>2 kilograms</td>\n",
       "      <td>150.00 per kilo</td>\n",
       "      <td>300.0</td>\n",
       "    </tr>\n",
       "    <tr>\n",
       "      <th>2</th>\n",
       "      <td>Luncheon meat</td>\n",
       "      <td>10 cans</td>\n",
       "      <td>30.00 per can</td>\n",
       "      <td>300.0</td>\n",
       "    </tr>\n",
       "    <tr>\n",
       "      <th>8</th>\n",
       "      <td>Mixed vegetables</td>\n",
       "      <td>2 300-grams</td>\n",
       "      <td>150.00 per 300 grams</td>\n",
       "      <td>300.0</td>\n",
       "    </tr>\n",
       "    <tr>\n",
       "      <th>5</th>\n",
       "      <td>Butter</td>\n",
       "      <td>3 200-grams</td>\n",
       "      <td>60.00 per 200 grams</td>\n",
       "      <td>180.0</td>\n",
       "    </tr>\n",
       "  </tbody>\n",
       "</table>\n",
       "</div>"
      ],
      "text/plain": [
       "       Grocery List      Quantity                 Price   Total\n",
       "7              Eggs      10 trays       270.00 per tray  2700.0\n",
       "3              Rice  50 kilograms        26.00 per kilo  1300.0\n",
       "1            Salmon   3 kilograms       180.00 per kilo   540.0\n",
       "6              Milk      5 liters       92.00 per liter   460.0\n",
       "4             Bread      5 loaves        65.00 per load   325.0\n",
       "0              Tuna   2 kilograms       150.00 per kilo   300.0\n",
       "2     Luncheon meat       10 cans         30.00 per can   300.0\n",
       "8  Mixed vegetables   2 300-grams  150.00 per 300 grams   300.0\n",
       "5            Butter   3 200-grams   60.00 per 200 grams   180.0"
      ]
     },
     "execution_count": 42,
     "metadata": {},
     "output_type": "execute_result"
    }
   ],
   "source": [
    "sorted_df = dataFrame.sort_values(by='Total', ascending=False)\n",
    "sorted_df"
   ]
  },
  {
   "cell_type": "markdown",
   "metadata": {},
   "source": [
    "3.3 Sort and determine the top three least expensive items on the list. Display it as a table.\n",
    "[80 pts]\n"
   ]
  },
  {
   "cell_type": "code",
   "execution_count": 43,
   "metadata": {},
   "outputs": [
    {
     "data": {
      "text/html": [
       "<div>\n",
       "<style scoped>\n",
       "    .dataframe tbody tr th:only-of-type {\n",
       "        vertical-align: middle;\n",
       "    }\n",
       "\n",
       "    .dataframe tbody tr th {\n",
       "        vertical-align: top;\n",
       "    }\n",
       "\n",
       "    .dataframe thead th {\n",
       "        text-align: right;\n",
       "    }\n",
       "</style>\n",
       "<table border=\"1\" class=\"dataframe\">\n",
       "  <thead>\n",
       "    <tr style=\"text-align: right;\">\n",
       "      <th></th>\n",
       "      <th>Grocery List</th>\n",
       "      <th>Quantity</th>\n",
       "      <th>Price</th>\n",
       "      <th>Total</th>\n",
       "    </tr>\n",
       "  </thead>\n",
       "  <tbody>\n",
       "    <tr>\n",
       "      <th>7</th>\n",
       "      <td>Eggs</td>\n",
       "      <td>10 trays</td>\n",
       "      <td>270.00 per tray</td>\n",
       "      <td>2700.0</td>\n",
       "    </tr>\n",
       "    <tr>\n",
       "      <th>3</th>\n",
       "      <td>Rice</td>\n",
       "      <td>50 kilograms</td>\n",
       "      <td>26.00 per kilo</td>\n",
       "      <td>1300.0</td>\n",
       "    </tr>\n",
       "    <tr>\n",
       "      <th>1</th>\n",
       "      <td>Salmon</td>\n",
       "      <td>3 kilograms</td>\n",
       "      <td>180.00 per kilo</td>\n",
       "      <td>540.0</td>\n",
       "    </tr>\n",
       "  </tbody>\n",
       "</table>\n",
       "</div>"
      ],
      "text/plain": [
       "  Grocery List      Quantity            Price   Total\n",
       "7         Eggs      10 trays  270.00 per tray  2700.0\n",
       "3         Rice  50 kilograms   26.00 per kilo  1300.0\n",
       "1       Salmon   3 kilograms  180.00 per kilo   540.0"
      ]
     },
     "execution_count": 43,
     "metadata": {},
     "output_type": "execute_result"
    }
   ],
   "source": [
    "top_three = dataFrame.nlargest(3, 'Total')\n",
    "top_three"
   ]
  },
  {
   "cell_type": "markdown",
   "metadata": {},
   "source": [
    "3.4 Determine the mean expenditure and the standard deviation. [80 pts]"
   ]
  },
  {
   "cell_type": "code",
   "execution_count": 44,
   "metadata": {},
   "outputs": [
    {
     "name": "stdout",
     "output_type": "stream",
     "text": [
      "Mean Expenditure: 711.67 \n",
      "Standard Deviation: 816.47\n"
     ]
    }
   ],
   "source": [
    "mean_exp = dataFrame['Total'].mean()\n",
    "sd = dataFrame['Total'].std()\n",
    "\n",
    "print(\"Mean Expenditure: %5.2f \\nStandard Deviation: %5.2f\" % (mean_exp, sd))"
   ]
  },
  {
   "cell_type": "markdown",
   "metadata": {},
   "source": [
    "3.5 Use a pie chart to visualize the distribution of total price of each item. [80 pts]"
   ]
  },
  {
   "cell_type": "code",
   "execution_count": 45,
   "metadata": {},
   "outputs": [
    {
     "data": {
      "image/png": "[encoded data removed]",
      "text/plain": [
       "<Figure size 792x792 with 1 Axes>"
      ]
     },
     "metadata": {},
     "output_type": "display_data"
    }
   ],
   "source": [
    "pie = dataFrame.plot.pie(y='Total', labels = dataFrame['Grocery List'], figsize=(11,11))"
   ]
  }
 ],
 "metadata": {
  "interpreter": {
   "hash": "41fb6f42c941f3fcf46e6a69fd3fab65529caaaede1028070cf8b768ae23d3b9"
  },
  "kernelspec": {
   "display_name": "Python 3.10.0 64-bit",
   "language": "python",
   "name": "python3"
  },
  "language_info": {
   "codemirror_mode": {
    "name": "ipython",
    "version": 3
   },
   "file_extension": ".py",
   "mimetype": "text/x-python",
   "name": "python",
   "nbconvert_exporter": "python",
   "pygments_lexer": "ipython3",
   "version": "3.10.0"
  },
  "orig_nbformat": 4
 },
 "nbformat": 4,
 "nbformat_minor": 2
}
